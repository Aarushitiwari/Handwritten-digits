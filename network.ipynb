{
 "cells": [
  {
   "cell_type": "code",
   "execution_count": 9,
   "metadata": {},
   "outputs": [],
   "source": [
    "import pickle\n",
    "import gzip\n",
    "import random\n",
    "import numpy as np"
   ]
  },
  {
   "cell_type": "code",
   "execution_count": 10,
   "metadata": {},
   "outputs": [],
   "source": [
    "def load_data():\n",
    "    f = gzip.open('/Users/Aarushi/Desktop/neural-networks-and-deep-learning/data/mnist.pkl.gz', 'rb')\n",
    "    training_data, validation_data, test_data = pickle.load(f)\n",
    "    f.close()\n",
    "    return (training_data, validation_data, test_data)\n",
    "\n",
    "def load_data_wrapper():\n",
    "    tr_d, va_d, te_d = load_data()\n",
    "    training_inputs = [np.reshape(x, (784, 1)) for x in tr_d[0]]\n",
    "    training_results = [vectorized_result(y) for y in tr_d[1]]\n",
    "    training_data = zip(training_inputs, training_results)\n",
    "    validation_inputs = [np.reshape(x, (784, 1)) for x in va_d[0]]\n",
    "    validation_data = zip(validation_inputs, va_d[1])\n",
    "    test_inputs = [np.reshape(x, (784, 1)) for x in te_d[0]]\n",
    "    test_data = zip(test_inputs, te_d[1])\n",
    "    return (training_data, validation_data, test_data)\n",
    "\n",
    "def vectorized_result(j):\n",
    "    e = np.zeros((10, 1))\n",
    "    e[j] = 1.0\n",
    "    return e"
   ]
  },
  {
   "cell_type": "code",
   "execution_count": 11,
   "metadata": {},
   "outputs": [],
   "source": [
    "def load_data():\n",
    "    f = gzip.open('/Users/Aarushi/Desktop/neural-networks-and-deep-learning/data/mnist.pkl.gz', 'rb')\n",
    "    training_data, validation_data, test_data = pickle.load(f)\n",
    "    f.close()\n",
    "    return (training_data, validation_data, test_data)\n",
    "\n",
    "def load_data_wrapper():\n",
    "    tr_d, va_d, te_d = load_data()\n",
    "    training_inputs = [np.reshape(x, (784, 1)) for x in tr_d[0]]\n",
    "    training_results = [vectorized_result(y) for y in tr_d[1]]\n",
    "    training_data = zip(training_inputs, training_results)\n",
    "    validation_inputs = [np.reshape(x, (784, 1)) for x in va_d[0]]\n",
    "    validation_data = zip(validation_inputs, va_d[1])\n",
    "    test_inputs = [np.reshape(x, (784, 1)) for x in te_d[0]]\n",
    "    test_data = zip(test_inputs, te_d[1])\n",
    "    return (training_data, validation_data, test_data)\n",
    "\n",
    "def vectorized_result(j):\n",
    "    e = np.zeros((10, 1))\n",
    "    e[j] = 1.0\n",
    "    return e"
   ]
  },
  {
   "cell_type": "code",
   "execution_count": 12,
   "metadata": {},
   "outputs": [],
   "source": [
    "class Network(object):\n",
    "\n",
    "    def __init__(self, sizes):\n",
    "       \n",
    "        self.num_layers = len(sizes)\n",
    "        self.sizes = sizes\n",
    "        self.biases = [np.random.randn(y, 1) for y in sizes[1:]]\n",
    "        self.weights = [np.random.randn(y, x)\n",
    "                        for x, y in zip(sizes[:-1], sizes[1:])]\n",
    "\n",
    "    def feedforward(self, a):\n",
    "     \n",
    "        for b, w in zip(self.biases, self.weights):\n",
    "            a = sigmoid(np.dot(w, a)+b)\n",
    "        return a\n",
    "\n",
    "    def SGD(self, training_data, epochs, mini_batch_size, eta,\n",
    "            test_data=None):\n",
    "        \n",
    "        if test_data: n_test = len(test_data)\n",
    "        n = len(training_data)\n",
    "        for j in xrange(epochs):\n",
    "            random.shuffle(training_data)\n",
    "            mini_batches = [\n",
    "                training_data[k:k+mini_batch_size]\n",
    "                for k in xrange(0, n, mini_batch_size)]\n",
    "            for mini_batch in mini_batches:\n",
    "                self.update_mini_batch(mini_batch, eta)\n",
    "            if test_data:\n",
    "                print \"Epoch {0}: {1} / {2}\".format(\n",
    "                    j, self.evaluate(test_data), n_test)\n",
    "            else:\n",
    "                print \"Epoch {0} complete\".format(j)\n",
    "\n",
    "    def update_mini_batch(self, mini_batch, eta):\n",
    "        \n",
    "        nabla_b = [np.zeros(b.shape) for b in self.biases]\n",
    "        nabla_w = [np.zeros(w.shape) for w in self.weights]\n",
    "        for x, y in mini_batch:\n",
    "            delta_nabla_b, delta_nabla_w = self.backprop(x, y)\n",
    "            nabla_b = [nb+dnb for nb, dnb in zip(nabla_b, delta_nabla_b)]\n",
    "            nabla_w = [nw+dnw for nw, dnw in zip(nabla_w, delta_nabla_w)]\n",
    "        self.weights = [w-(eta/len(mini_batch))*nw\n",
    "                        for w, nw in zip(self.weights, nabla_w)]\n",
    "        self.biases = [b-(eta/len(mini_batch))*nb\n",
    "                       for b, nb in zip(self.biases, nabla_b)]\n",
    "\n",
    "    def backprop(self, x, y):\n",
    "        \n",
    "        nabla_b = [np.zeros(b.shape) for b in self.biases]\n",
    "        nabla_w = [np.zeros(w.shape) for w in self.weights]\n",
    "        # feedforward\n",
    "        activation = x\n",
    "        activations = [x] # list to store all the activations, layer by layer\n",
    "        zs = [] # list to store all the z vectors, layer by layer\n",
    "        for b, w in zip(self.biases, self.weights):\n",
    "            z = np.dot(w, activation)+b\n",
    "            zs.append(z)\n",
    "            activation = sigmoid(z)\n",
    "            activations.append(activation)\n",
    "        # backward pass\n",
    "        delta = self.cost_derivative(activations[-1], y) * \\\n",
    "            sigmoid_prime(zs[-1])\n",
    "        nabla_b[-1] = delta\n",
    "        nabla_w[-1] = np.dot(delta, activations[-2].transpose())\n",
    "      \n",
    "        for l in xrange(2, self.num_layers):\n",
    "            z = zs[-l]\n",
    "            sp = sigmoid_prime(z)\n",
    "            delta = np.dot(self.weights[-l+1].transpose(), delta) * sp\n",
    "            nabla_b[-l] = delta\n",
    "            nabla_w[-l] = np.dot(delta, activations[-l-1].transpose())\n",
    "        return (nabla_b, nabla_w)\n",
    "\n",
    "    def evaluate(self, test_data):        \n",
    "        test_results = [(np.argmax(self.feedforward(x)), y)\n",
    "                        for (x, y) in test_data]\n",
    "        return sum(int(x == y) for (x, y) in test_results)\n",
    "\n",
    "    def cost_derivative(self, output_activations, y):     \n",
    "        return (output_activations-y)\n",
    "\n",
    "def sigmoid(z):\n",
    "    return 1.0/(1.0+np.exp(-z))\n",
    "\n",
    "def sigmoid_prime(z):\n",
    "    return sigmoid(z)*(1-sigmoid(z))\n"
   ]
  },
  {
   "cell_type": "code",
   "execution_count": 13,
   "metadata": {},
   "outputs": [],
   "source": [
    "training_data, validation_data, test_data = load_data_wrapper()"
   ]
  },
  {
   "cell_type": "code",
   "execution_count": 14,
   "metadata": {},
   "outputs": [],
   "source": [
    "net = Network([784, 30, 10])"
   ]
  },
  {
   "cell_type": "code",
   "execution_count": 15,
   "metadata": {},
   "outputs": [
    {
     "name": "stdout",
     "output_type": "stream",
     "text": [
      "Epoch 0: 9014 / 10000\n",
      "Epoch 1: 9199 / 10000\n",
      "Epoch 2: 9302 / 10000\n",
      "Epoch 3: 9330 / 10000\n",
      "Epoch 4: 9347 / 10000\n",
      "Epoch 5: 9392 / 10000\n",
      "Epoch 6: 9394 / 10000\n",
      "Epoch 7: 9432 / 10000\n",
      "Epoch 8: 9413 / 10000\n",
      "Epoch 9: 9435 / 10000\n",
      "Epoch 10: 9471 / 10000\n",
      "Epoch 11: 9462 / 10000\n",
      "Epoch 12: 9491 / 10000\n",
      "Epoch 13: 9493 / 10000\n",
      "Epoch 14: 9504 / 10000\n",
      "Epoch 15: 9491 / 10000\n",
      "Epoch 16: 9507 / 10000\n",
      "Epoch 17: 9509 / 10000\n",
      "Epoch 18: 9508 / 10000\n",
      "Epoch 19: 9513 / 10000\n",
      "Epoch 20: 9496 / 10000\n",
      "Epoch 21: 9500 / 10000\n",
      "Epoch 22: 9509 / 10000\n",
      "Epoch 23: 9490 / 10000\n",
      "Epoch 24: 9527 / 10000\n",
      "Epoch 25: 9498 / 10000\n",
      "Epoch 26: 9516 / 10000\n",
      "Epoch 27: 9520 / 10000\n",
      "Epoch 28: 9518 / 10000\n",
      "Epoch 29: 9487 / 10000\n"
     ]
    }
   ],
   "source": [
    "net.SGD(training_data, 30, 10, 3.0, test_data = test_data)"
   ]
  },
  {
   "cell_type": "code",
   "execution_count": 16,
   "metadata": {},
   "outputs": [],
   "source": [
    "net = Network([784, 100, 10])"
   ]
  },
  {
   "cell_type": "code",
   "execution_count": 17,
   "metadata": {},
   "outputs": [
    {
     "name": "stdout",
     "output_type": "stream",
     "text": [
      "Epoch 0: 892 / 10000\n",
      "Epoch 1: 892 / 10000\n",
      "Epoch 2: 892 / 10000\n",
      "Epoch 3: 892 / 10000\n",
      "Epoch 4: 892 / 10000\n",
      "Epoch 5: 892 / 10000\n",
      "Epoch 6: 892 / 10000\n",
      "Epoch 7: 892 / 10000\n",
      "Epoch 8: 892 / 10000\n",
      "Epoch 9: 892 / 10000\n",
      "Epoch 10: 892 / 10000\n",
      "Epoch 11: 892 / 10000\n",
      "Epoch 12: 892 / 10000\n",
      "Epoch 13: 892 / 10000\n",
      "Epoch 14: 892 / 10000\n",
      "Epoch 15: 892 / 10000\n",
      "Epoch 16: 892 / 10000\n",
      "Epoch 17: 892 / 10000\n",
      "Epoch 18: 892 / 10000\n",
      "Epoch 19: 892 / 10000\n",
      "Epoch 20: 892 / 10000\n",
      "Epoch 21: 892 / 10000\n",
      "Epoch 22: 892 / 10000\n",
      "Epoch 23: 892 / 10000\n",
      "Epoch 24: 892 / 10000\n",
      "Epoch 25: 892 / 10000\n",
      "Epoch 26: 892 / 10000\n",
      "Epoch 27: 892 / 10000\n",
      "Epoch 28: 892 / 10000\n",
      "Epoch 29: 892 / 10000\n"
     ]
    }
   ],
   "source": [
    "net.SGD(training_data, 30, 10, 100.0, test_data = test_data)"
   ]
  },
  {
   "cell_type": "code",
   "execution_count": 18,
   "metadata": {},
   "outputs": [],
   "source": [
    "net = Network([784, 0 , 10])"
   ]
  },
  {
   "cell_type": "code",
   "execution_count": 19,
   "metadata": {},
   "outputs": [
    {
     "name": "stdout",
     "output_type": "stream",
     "text": [
      "Epoch 0: 1010 / 10000\n",
      "Epoch 1: 1010 / 10000\n",
      "Epoch 2: 1009 / 10000\n",
      "Epoch 3: 1009 / 10000\n",
      "Epoch 4: 974 / 10000\n",
      "Epoch 5: 1009 / 10000\n",
      "Epoch 6: 1009 / 10000\n",
      "Epoch 7: 1135 / 10000\n",
      "Epoch 8: 1135 / 10000\n",
      "Epoch 9: 974 / 10000\n",
      "Epoch 10: 1135 / 10000\n",
      "Epoch 11: 974 / 10000\n",
      "Epoch 12: 1028 / 10000\n",
      "Epoch 13: 1028 / 10000\n",
      "Epoch 14: 1028 / 10000\n",
      "Epoch 15: 1028 / 10000\n",
      "Epoch 16: 1010 / 10000\n",
      "Epoch 17: 1010 / 10000\n",
      "Epoch 18: 980 / 10000\n",
      "Epoch 19: 1135 / 10000\n",
      "Epoch 20: 1010 / 10000\n",
      "Epoch 21: 1010 / 10000\n",
      "Epoch 22: 982 / 10000\n",
      "Epoch 23: 982 / 10000\n",
      "Epoch 24: 892 / 10000\n",
      "Epoch 25: 892 / 10000\n",
      "Epoch 26: 892 / 10000\n",
      "Epoch 27: 982 / 10000\n",
      "Epoch 28: 1010 / 10000\n",
      "Epoch 29: 974 / 10000\n"
     ]
    }
   ],
   "source": [
    "net.SGD(training_data, 30, 10, 100.0, test_data = test_data)"
   ]
  }
 ],
 "metadata": {
  "kernelspec": {
   "display_name": "Python 2",
   "language": "python",
   "name": "python2"
  },
  "language_info": {
   "codemirror_mode": {
    "name": "ipython",
    "version": 2
   },
   "file_extension": ".py",
   "mimetype": "text/x-python",
   "name": "python",
   "nbconvert_exporter": "python",
   "pygments_lexer": "ipython2",
   "version": "2.7.10"
  }
 },
 "nbformat": 4,
 "nbformat_minor": 2
}
